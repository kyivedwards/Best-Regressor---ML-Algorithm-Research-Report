{
 "cells": [
  {
   "cell_type": "markdown",
   "id": "9d92357e",
   "metadata": {},
   "source": [
    "# 3. Classifier Interprability"
   ]
  },
  {
   "cell_type": "markdown",
   "id": "d4d7c316",
   "metadata": {},
   "source": [
    "## After training 2 types of models: a decision tree and a convolutional neural network. It will be decided which model is more interpretable"
   ]
  },
  {
   "cell_type": "markdown",
   "id": "43052e5f",
   "metadata": {},
   "source": [
    "### Import Required Libraries"
   ]
  },
  {
   "cell_type": "code",
   "execution_count": 1,
   "id": "922a45b8",
   "metadata": {},
   "outputs": [],
   "source": [
    "import matplotlib.pyplot as plt\n",
    "import matplotlib.colors\n",
    "import numpy as np\n",
    "import sklearn"
   ]
  },
  {
   "cell_type": "code",
   "execution_count": 2,
   "id": "f42b25d0",
   "metadata": {},
   "outputs": [],
   "source": [
    "def unpickle(file):\n",
    "    import pickle\n",
    "    with open(file, 'rb') as fo:\n",
    "        dict = pickle.load(fo, encoding='bytes')\n",
    "    return dict"
   ]
  },
  {
   "cell_type": "code",
   "execution_count": 3,
   "id": "db930688",
   "metadata": {},
   "outputs": [],
   "source": [
    "#creating an instance\n",
    "dd=unpickle('Datasets/data_batch_1')"
   ]
  },
  {
   "cell_type": "code",
   "execution_count": 4,
   "id": "031482dd",
   "metadata": {},
   "outputs": [
    {
     "data": {
      "text/plain": [
       "<matplotlib.image.AxesImage at 0x7f8b34421070>"
      ]
     },
     "execution_count": 4,
     "metadata": {},
     "output_type": "execute_result"
    },
    {
     "data": {
      "image/png": "[encoded data removed]",
      "text/plain": [
       "<Figure size 432x288 with 1 Axes>"
      ]
     },
     "metadata": {
      "needs_background": "light"
     },
     "output_type": "display_data"
    }
   ],
   "source": [
    "#showing the first image from data\n",
    "img=dd[b'data'][0]\n",
    "img.shape=(32,32,3)\n",
    "plt.imshow(img)"
   ]
  },
  {
   "cell_type": "code",
   "execution_count": 5,
   "id": "079e7b97",
   "metadata": {},
   "outputs": [
    {
     "data": {
      "text/plain": [
       "<matplotlib.image.AxesImage at 0x7f8b3431bc70>"
      ]
     },
     "execution_count": 5,
     "metadata": {},
     "output_type": "execute_result"
    },
    {
     "data": {
      "image/png": "[encoded data removed]",
      "text/plain": [
       "<Figure size 432x288 with 1 Axes>"
      ]
     },
     "metadata": {
      "needs_background": "light"
     },
     "output_type": "display_data"
    }
   ],
   "source": [
    "#reshaping the data and showing the result\n",
    "img=img.reshape(3,32,32).transpose(1,2,0)\n",
    "plt.imshow(img)"
   ]
  },
  {
   "cell_type": "markdown",
   "id": "b856cf5e",
   "metadata": {},
   "source": [
    "## Train Test Split:"
   ]
  },
  {
   "cell_type": "code",
   "execution_count": 6,
   "id": "c15fcf72",
   "metadata": {},
   "outputs": [
    {
     "data": {
      "text/plain": [
       "array([[ 59,  43,  50, ..., 140,  84,  72],\n",
       "       [154, 126, 105, ..., 139, 142, 144],\n",
       "       [255, 253, 253, ...,  83,  83,  84],\n",
       "       ...,\n",
       "       [ 71,  60,  74, ...,  68,  69,  68],\n",
       "       [250, 254, 211, ..., 215, 255, 254],\n",
       "       [ 62,  61,  60, ..., 130, 130, 131]], dtype=uint8)"
      ]
     },
     "execution_count": 6,
     "metadata": {},
     "output_type": "execute_result"
    }
   ],
   "source": [
    "X=dd[b'data']\n",
    "X"
   ]
  },
  {
   "cell_type": "code",
   "execution_count": 7,
   "id": "6c11b5c7",
   "metadata": {},
   "outputs": [
    {
     "data": {
      "text/plain": [
       "(10000,)"
      ]
     },
     "execution_count": 7,
     "metadata": {},
     "output_type": "execute_result"
    }
   ],
   "source": [
    "Y=np.array(dd[b'labels'])\n",
    "Y.shape\n"
   ]
  },
  {
   "cell_type": "code",
   "execution_count": 8,
   "id": "a1d07aa3",
   "metadata": {},
   "outputs": [],
   "source": [
    "from sklearn.model_selection import train_test_split\n",
    "\n",
    "# Let's say we want to split the data in 80:10:10 for train:valid:test dataset\n",
    "train_size=0.8\n",
    "\n",
    "\n",
    "# In the first step we will split the data in training and remaining dataset\n",
    "x_train, x_test, y_train, y_test = train_test_split(X,Y, train_size=0.8)"
   ]
  },
  {
   "cell_type": "markdown",
   "id": "193fa2ef",
   "metadata": {},
   "source": [
    "## Model-Creation,Training & Visualization"
   ]
  },
  {
   "cell_type": "code",
   "execution_count": 9,
   "id": "bc568945",
   "metadata": {},
   "outputs": [
    {
     "data": {
      "text/plain": [
       "DecisionTreeClassifier(max_depth=100, random_state=0, splitter='random')"
      ]
     },
     "execution_count": 9,
     "metadata": {},
     "output_type": "execute_result"
    }
   ],
   "source": [
    "from sklearn.tree import DecisionTreeClassifier\n",
    "\n",
    "dc=DecisionTreeClassifier(max_depth=100, random_state=0, splitter='random')\n",
    "dc.fit(x_train,y_train)"
   ]
  },
  {
   "cell_type": "code",
   "execution_count": 10,
   "id": "3650570c",
   "metadata": {},
   "outputs": [],
   "source": [
    "def train_estimators(X, y, estimator_type, **kwargs):\n",
    "    \n",
    "    clf = estimator_type( random_state=0,**kwargs)\n",
    "    clf.fit(X, y)\n",
    "                \n",
    "    return clf"
   ]
  },
  {
   "cell_type": "code",
   "execution_count": 11,
   "id": "94815fa7",
   "metadata": {},
   "outputs": [],
   "source": [
    "def plot_estimator_scores(estimator,**kwargs):\n",
    "    \"\"\"\n",
    "    Plots the training, validation, and testing scores of a list of estimators,\n",
    "    where `param_name` and `param_vals` are the same as for `train_estimators`.\n",
    "    The estimator with best validation score will be highlighted with an 'x'.\n",
    "    \"\"\"\n",
    "    # Your implementation here. Use as many lines as you need.\n",
    "    \n",
    "    x=1\n",
    "    list_tr=[]\n",
    "    list_tst=[]\n",
    "    list_val=[]\n",
    "    list_par_val=[]\n",
    "    estimtr=0\n",
    "    s=-4\n",
    "    s1=-2\n",
    "    for i in range(1,6):\n",
    "        \n",
    "        if estimator==DecisionTreeClassifier or estimator==RandomForestClassifier:\n",
    "        \n",
    "            estimtr=train_estimators(x_train, y_train, estimator, max_depth=i*5*x)\n",
    "        elif estimator==LogisticRegression:\n",
    "            estimtr=train_estimators(x_train, y_train, estimator,\n",
    "                                    C=10**s,max_iter=10000)\n",
    "\n",
    "            s=s+1\n",
    "            \n",
    "        elif estimator==SVC:\n",
    "            \n",
    "            \n",
    "            estimtr=train_estimators(x_train, y_train, estimator,\n",
    "                                    C=10**s1,max_iter=10000,gamma=0.001)\n",
    "            s1=s1+1\n",
    "    \n",
    "        list_tr.append(score_estimators(x_train, y_train,estimtr))\n",
    "#         list_tst.append(score_estimators(X_valid, y_valid,estimtr))\n",
    "        list_tst.append(score_estimators(x_test, y_test,estimtr))\n",
    "        list_par_val.append(i*5*x)\n",
    "        x=x+1\n",
    "        \n",
    "    plt.plot(list_par_val,list_tr, label='training')\n",
    "    plt.scatter(list_par_val,list_tr,)\n",
    "    plt.plot(list_par_val,list_tst, label='testing')\n",
    "    plt.scatter(list_par_val,list_tst)\n",
    "    \n",
    "    plt.legend()\n",
    "    return list_tr,list_tst,list_val"
   ]
  },
  {
   "cell_type": "code",
   "execution_count": 12,
   "id": "03e98aab",
   "metadata": {},
   "outputs": [],
   "source": [
    "def score_estimators(X, y,estimator):\n",
    "    \"\"\"Scores each estimator on (X, y), returning a list of scores.\"\"\"\n",
    "    # Your implementation here. Aim for 1-4 lines.\n",
    "    return estimator.score(X, y)\n"
   ]
  },
  {
   "cell_type": "code",
   "execution_count": 13,
   "id": "71ae2f1a",
   "metadata": {},
   "outputs": [
    {
     "data": {
      "text/plain": [
       "([0.306, 0.989625, 1.0, 1.0, 1.0], [0.248, 0.2145, 0.2115, 0.2115, 0.2115], [])"
      ]
     },
     "execution_count": 13,
     "metadata": {},
     "output_type": "execute_result"
    },
    {
     "data": {
      "image/png": "[encoded data removed]",
      "text/plain": [
       "<Figure size 432x288 with 1 Axes>"
      ]
     },
     "metadata": {
      "needs_background": "light"
     },
     "output_type": "display_data"
    }
   ],
   "source": [
    "tree = DecisionTreeClassifier\n",
    "plot_estimator_scores(tree)"
   ]
  },
  {
   "cell_type": "code",
   "execution_count": 14,
   "id": "ab046ccc",
   "metadata": {},
   "outputs": [],
   "source": [
    "def plot_iris_data(X, y, title):\n",
    "    iris_extent = [3.8, 8.3, 1.6, 5]\n",
    "    plt.scatter(X[:,0][y==0], X[:,1][y==0], marker='x', label='Setosa', color='red')\n",
    "    plt.scatter(X[:,0][y==1], X[:,1][y==1], marker='x', label='Versicolour', color='blue')\n",
    "    plt.scatter(X[:,0][y==2], X[:,1][y==2], marker='x', label='Virginica', color='green')\n",
    "    \n",
    "    plt.title(title)\n",
    "    plt.xlabel('sepal length')\n",
    "    plt.ylabel('sepal width')\n",
    "    plt.axis(iris_extent)\n",
    "    plt.legend()\n",
    "\n",
    "def plot_iris_predict(model):   \n",
    "    extent = (3.7, 8.5, 1.5, 5)\n",
    "    x1min, x1max ,x2min, x2max = extent\n",
    "#     x1, x2 = np.meshgrid(\n",
    "#         np.linspace(x1min, x1max, 100), \n",
    "#         np.linspace(x2min, x2max, 100))\n",
    "#     X = np.column_stack([x1.ravel(), x2.ravel()])\n",
    "    y = model.predict(x_test)\n",
    "    cmap = matplotlib.colors.ListedColormap(['r', 'b', 'g'])\n",
    "    plt.imshow(y, extent=extent, origin='lower', alpha=0.4, vmin=0, vmax=2, cmap=cmap, interpolation='nearest')\n",
    "    plt.xlim([x1min, x1max])\n",
    "    plt.ylim([x2min, x2max])\n",
    "    plt.gca().set_aspect('equal')\n",
    "\n",
    "\n",
    "# for depth in range(9):\n",
    "#     print(x_train.shape)\n",
    "#     print(y_train.shape)\n",
    "#     tree = sklearn.tree.DecisionTreeClassifier(random_state=0, max_depth=depth+1).fit(x_train, y_train)\n",
    "#     plt.figure(figsize=((40,40)))\n",
    "#     plt.subplot(9, 1, depth+1)\n",
    "    \n",
    "#     plot_iris_predict(tree)\n",
    "#     plot_iris_data(x_train, y_train, 'Decision tree regions (max_depth={})'.format(depth+1))\n",
    "\n",
    "#     train_accuracy = sklearn.metrics.accuracy_score(y_train, tree.predict(x_train))*100\n",
    "#     test_accuracy = sklearn.metrics.accuracy_score(y_test, tree.predict(x_test))*100\n",
    "\n",
    "#     plt.text(4, 4.5, \n",
    "#              'train accuracy: {0:3.1f}% \\n'.format(train_accuracy) +\n",
    "#              'test accuracy: {0:3.1f}%'.format(test_accuracy))\n",
    "#     plt.show();"
   ]
  },
  {
   "cell_type": "markdown",
   "id": "5fad8309",
   "metadata": {},
   "source": [
    "# Convolution Neural Network"
   ]
  },
  {
   "cell_type": "code",
   "execution_count": 15,
   "id": "c7e7a949",
   "metadata": {
    "scrolled": true
   },
   "outputs": [],
   "source": [
    "import torch\n",
    "import numpy as np\n",
    "import torch.nn as nn\n",
    "import torch.nn.functional as F\n",
    "from torchvision import datasets\n",
    "import torchvision.transforms as transforms\n",
    "from torch.utils.data.sampler import SubsetRandomSampler"
   ]
  },
  {
   "cell_type": "code",
   "execution_count": 16,
   "id": "1f45d58a",
   "metadata": {},
   "outputs": [
    {
     "name": "stdout",
     "output_type": "stream",
     "text": [
      "Downloading https://www.cs.toronto.edu/~kriz/cifar-10-python.tar.gz to data/cifar-10-python.tar.gz\n"
     ]
    },
    {
     "data": {
      "application/vnd.jupyter.widget-view+json": {
       "model_id": "a7e47c1decc649bf9347664222bb713a",
       "version_major": 2,
       "version_minor": 0
      },
      "text/plain": [
       "  0%|          | 0/170498071 [00:00<?, ?it/s]"
      ]
     },
     "metadata": {},
     "output_type": "display_data"
    },
    {
     "name": "stdout",
     "output_type": "stream",
     "text": [
      "Extracting data/cifar-10-python.tar.gz to data\n",
      "Files already downloaded and verified\n"
     ]
    }
   ],
   "source": [
    "\n",
    "\n",
    "# number of subprocesses to use for data loading\n",
    "num_workers = 0\n",
    "# how many samples per batch to load\n",
    "batch_size = 20\n",
    "# percentage of training set to use as validation\n",
    "valid_size = 0.2\n",
    "\n",
    "# convert data to a normalized torch.FloatTensor\n",
    "transform = transforms.Compose([\n",
    "    transforms.ToTensor(),\n",
    "    transforms.Normalize((0.5, 0.5, 0.5), (0.5, 0.5, 0.5))\n",
    "    ])\n",
    "\n",
    "# choose the training and test datasets\n",
    "train_data = datasets.CIFAR10('data', train=True,\n",
    "                              download=True, transform=transform)\n",
    "test_data = datasets.CIFAR10('data', train=False,\n",
    "                             download=True, transform=transform)\n",
    "\n",
    "# obtain training indices that will be used for validation\n",
    "num_train = len(train_data)\n",
    "indices = list(range(num_train))\n",
    "np.random.shuffle(indices)\n",
    "split = int(np.floor(valid_size * num_train))\n",
    "train_idx, valid_idx = indices[split:], indices[:split]\n",
    "\n",
    "# define samplers for obtaining training and validation batches\n",
    "train_sampler = SubsetRandomSampler(train_idx)\n",
    "valid_sampler = SubsetRandomSampler(valid_idx)\n",
    "\n",
    "# prepare data loaders (combine dataset and sampler)\n",
    "train_loader = torch.utils.data.DataLoader(train_data, batch_size=batch_size,\n",
    "    sampler=train_sampler, num_workers=num_workers)\n",
    "valid_loader = torch.utils.data.DataLoader(train_data, batch_size=batch_size, \n",
    "    sampler=valid_sampler, num_workers=num_workers)\n",
    "test_loader = torch.utils.data.DataLoader(test_data, batch_size=batch_size, \n",
    "    num_workers=num_workers)\n",
    "\n",
    "# specify the image classes\n",
    "classes = ['airplane', 'automobile', 'bird', 'cat', 'deer',\n",
    "           'dog', 'frog', 'horse', 'ship', 'truck']"
   ]
  },
  {
   "cell_type": "code",
   "execution_count": 25,
   "id": "cc2e3ad3",
   "metadata": {},
   "outputs": [
    {
     "name": "stdout",
     "output_type": "stream",
     "text": [
      "Net(\n",
      "  (conv1): Conv2d(3, 16, kernel_size=(3, 3), stride=(1, 1), padding=(1, 1))\n",
      "  (conv2): Conv2d(16, 32, kernel_size=(3, 3), stride=(1, 1), padding=(1, 1))\n",
      "  (conv3): Conv2d(32, 64, kernel_size=(3, 3), stride=(1, 1), padding=(1, 1))\n",
      "  (pool): MaxPool2d(kernel_size=2, stride=2, padding=0, dilation=1, ceil_mode=False)\n",
      "  (fc1): Linear(in_features=1024, out_features=500, bias=True)\n",
      "  (fc2): Linear(in_features=500, out_features=10, bias=True)\n",
      "  (dropout): Dropout(p=0.25, inplace=False)\n",
      ")\n"
     ]
    }
   ],
   "source": [
    "# define the CNN architecture\n",
    "class Net(nn.Module):\n",
    "    def __init__(self):\n",
    "        super(Net, self).__init__()\n",
    "        # convolutional layer (sees 32x32x3 image tensor)\n",
    "        self.conv1 = nn.Conv2d(3, 16, 3, padding=1)\n",
    "        # convolutional layer (sees 16x16x16 tensor)\n",
    "        self.conv2 = nn.Conv2d(16, 32, 3, padding=1)\n",
    "        # convolutional layer (sees 8x8x32 tensor)\n",
    "        self.conv3 = nn.Conv2d(32, 64, 3, padding=1)\n",
    "        # max pooling layer\n",
    "        self.pool = nn.MaxPool2d(2, 2)\n",
    "        # linear layer (64 * 4 * 4 -> 500)\n",
    "        self.fc1 = nn.Linear(64 * 4 * 4, 500)\n",
    "        # linear layer (500 -> 10)\n",
    "        self.fc2 = nn.Linear(500, 10)\n",
    "        # dropout layer (p=0.25)\n",
    "        self.dropout = nn.Dropout(0.25)\n",
    "\n",
    "    def forward(self, x):\n",
    "        # add sequence of convolutional and max pooling layers\n",
    "        x = self.pool(F.relu(self.conv1(x)))\n",
    "        x = self.pool(F.relu(self.conv2(x)))\n",
    "        x = self.pool(F.relu(self.conv3(x)))\n",
    "        # flatten image input\n",
    "        x = x.view(-1, 64 * 4 * 4)\n",
    "        # add dropout layer\n",
    "        x = self.dropout(x)\n",
    "        # add 1st hidden layer, with relu activation function\n",
    "        x = F.relu(self.fc1(x))\n",
    "        # add dropout layer\n",
    "        x = self.dropout(x)\n",
    "        # add 2nd hidden layer, with relu activation function\n",
    "        x = self.fc2(x)\n",
    "        return x\n",
    "    \n",
    "    def backward(self, x):\n",
    "        # add sequence of convolutional and max pooling layers\n",
    "        x = self.pool(F.relu(self.conv1(x)))\n",
    "        x = self.pool(F.relu(self.conv2(x)))\n",
    "        x = self.pool(F.relu(self.conv3(x)))\n",
    "        # flatten image input\n",
    "        x = x.view(-1, 64 * 4 * 4)\n",
    "        # add dropout layer\n",
    "        x = self.dropout(x)\n",
    "        # add 1st hidden layer, with relu activation function\n",
    "        x = F.relu(self.fc1(x))\n",
    "        # add dropout layer\n",
    "        x = self.dropout(x)\n",
    "        # add 2nd hidden layer, with relu activation function\n",
    "        x = self.fc2(x)\n",
    "        return x\n",
    "\n",
    "# create a complete CNN\n",
    "model = Net()\n",
    "print(model)\n",
    "\n",
    "# move tensors to GPU if CUDA is available\n",
    "if torch.cuda.is_available():\n",
    "    train_on_gpu = True\n",
    "    model.cuda()\n",
    "else:\n",
    "    train_on_gpu = False"
   ]
  },
  {
   "cell_type": "raw",
   "id": "ce18a8ed",
   "metadata": {},
   "source": []
  },
  {
   "cell_type": "code",
   "execution_count": 20,
   "id": "3f79fb3a",
   "metadata": {},
   "outputs": [],
   "source": [
    "import torch.optim as optim\n",
    "\n",
    "# specify loss function (categorical cross-entropy)\n",
    "criterion = nn.CrossEntropyLoss()\n",
    "\n",
    "# specify optimizer\n",
    "optimizer = optim.SGD(model.parameters(), lr=0.01)"
   ]
  },
  {
   "cell_type": "markdown",
   "id": "1c36f664",
   "metadata": {},
   "source": [
    "## Train the Network\n",
    "Remember to look at how the training and validation loss decreases over time; if the validation loss ever increases it indicates possible overfitting. (In fact, in the below example, we could have stopped around epoch 33 or so!)"
   ]
  },
  {
   "cell_type": "code",
   "execution_count": 26,
   "id": "e4ea0d11",
   "metadata": {},
   "outputs": [
    {
     "name": "stdout",
     "output_type": "stream",
     "text": [
      "Epoch: 1 \tTraining Loss: 2.303529 \tValidation Loss: 2.303670\n",
      "Validation loss decreased (inf --> 2.303670).  Saving model ...\n",
      "Epoch: 2 \tTraining Loss: 2.303385 \tValidation Loss: 2.303670\n",
      "Validation loss decreased (2.303670 --> 2.303670).  Saving model ...\n",
      "Epoch: 3 \tTraining Loss: 2.303357 \tValidation Loss: 2.303670\n",
      "Epoch: 4 \tTraining Loss: 2.303317 \tValidation Loss: 2.303670\n",
      "Epoch: 5 \tTraining Loss: 2.303377 \tValidation Loss: 2.303670\n"
     ]
    }
   ],
   "source": [
    "# number of epochs to train the model\n",
    "n_epochs = 5\n",
    "\n",
    "valid_loss_min = np.Inf # track change in validation loss\n",
    "\n",
    "for epoch in range(1, n_epochs+1):\n",
    "\n",
    "    # keep track of training and validation loss\n",
    "    train_loss = 0.0\n",
    "    valid_loss = 0.0\n",
    "    \n",
    "    ###################\n",
    "    # train the model #\n",
    "    ###################\n",
    "    model.train()\n",
    "    for data, target in train_loader:\n",
    "\n",
    "        optimizer.zero_grad()\n",
    "        # forward pass: compute predicted outputs by passing inputs to the model\n",
    "        output = model(data)\n",
    "        # calculate the batch loss\n",
    "        loss = criterion(output, target)\n",
    "        # backward pass: compute gradient of the loss with respect to model parameters\n",
    "        loss.backward()\n",
    "        # perform a single optimization step (parameter update)\n",
    "        optimizer.step()\n",
    "        # update training loss\n",
    "        train_loss += loss.item()*data.size(0)\n",
    "        \n",
    "    ######################    \n",
    "    # validate the model #\n",
    "    ######################\n",
    "    model.eval()\n",
    "    for data, target in valid_loader:\n",
    "\n",
    "        output = model(data)\n",
    "        # calculate the batch loss\n",
    "        loss = criterion(output, target)\n",
    "        # update average validation loss \n",
    "        valid_loss += loss.item()*data.size(0)\n",
    "    \n",
    "    # calculate average losses\n",
    "    train_loss = train_loss/len(train_loader.sampler)\n",
    "    valid_loss = valid_loss/len(valid_loader.sampler)\n",
    "        \n",
    "    # print training/validation statistics \n",
    "    print('Epoch: {} \\tTraining Loss: {:.6f} \\tValidation Loss: {:.6f}'.format(\n",
    "        epoch, train_loss, valid_loss))\n",
    "    \n",
    "    # save model if validation loss has decreased\n",
    "    if valid_loss <= valid_loss_min:\n",
    "        print('Validation loss decreased ({:.6f} --> {:.6f}).  Saving model ...'.format(\n",
    "        valid_loss_min,\n",
    "        valid_loss))\n",
    "        torch.save(model.state_dict(), 'model_cifar.pt')\n",
    "        valid_loss_min = valid_loss"
   ]
  },
  {
   "cell_type": "markdown",
   "id": "0e98d365",
   "metadata": {},
   "source": [
    "## Test the Trained Network\n",
    "Test your trained model on previously unseen data! A \"good\" result will be a CNN that gets around 70% (or more, try your best!) accuracy on these test images."
   ]
  },
  {
   "cell_type": "code",
   "execution_count": 31,
   "id": "82cbfef4",
   "metadata": {},
   "outputs": [
    {
     "name": "stdout",
     "output_type": "stream",
     "text": [
      "Test Loss: 2.303324\n",
      "\n",
      "Test Accuracy of airplane:\t 0% ( 8/1000)\n",
      "Test Accuracy of automobile:\t 0% ( 0/1000)\n",
      "Test Accuracy of  bird:\t 0% ( 0/1000)\n",
      "Test Accuracy of   cat:\t 0% ( 0/1000)\n",
      "Test Accuracy of  deer:\t 0% ( 0/1000)\n",
      "Test Accuracy of   dog:\t 0% ( 0/1000)\n",
      "Test Accuracy of  frog:\t99% (995/1000)\n",
      "Test Accuracy of horse:\t 0% ( 0/1000)\n",
      "Test Accuracy of  ship:\t 0% ( 0/1000)\n",
      "Test Accuracy of truck:\t 0% ( 0/1000)\n",
      "\n",
      "Test Accuracy (Overall):\t10% (1003/10000)\n"
     ]
    }
   ],
   "source": [
    "# track test loss\n",
    "test_loss = 0.0\n",
    "class_correct = list(0. for i in range(10))\n",
    "class_total = list(0. for i in range(10))\n",
    "\n",
    "model.eval()\n",
    "# iterate over test data\n",
    "for data, target in test_loader:\n",
    "    \n",
    "    # forward pass: compute predicted outputs by passing inputs to the model\n",
    "    output = model(data)\n",
    "    # calculate the batch loss\n",
    "    loss = criterion(output, target)\n",
    "    # update test loss \n",
    "    test_loss += loss.item()*data.size(0)\n",
    "    # convert output probabilities to predicted class\n",
    "    _, pred = torch.max(output, 1)    \n",
    "    # compare predictions to true label\n",
    "    correct_tensor = pred.eq(target.data.view_as(pred))\n",
    "    correct = np.squeeze(correct_tensor.numpy()) if not train_on_gpu else np.squeeze(correct_tensor.cpu().numpy())\n",
    "    # calculate test accuracy for each object class\n",
    "    for i in range(batch_size):\n",
    "        label = target.data[i]\n",
    "        class_correct[label] += correct[i].item()\n",
    "        class_total[label] += 1\n",
    "\n",
    "# average test loss\n",
    "test_loss = test_loss/len(test_loader.dataset)\n",
    "print('Test Loss: {:.6f}\\n'.format(test_loss))\n",
    "\n",
    "for i in range(10):\n",
    "    if class_total[i] > 0:\n",
    "        print('Test Accuracy of %5s:\\t%2d%% (%2d/%2d)' % (\n",
    "            classes[i], 100 * class_correct[i] / class_total[i],\n",
    "            np.sum(class_correct[i]), np.sum(class_total[i])))\n",
    "    else:\n",
    "        print('Test Accuracy of %5s:\\t N/A (no training examples)' % (classes[i]))\n",
    "\n",
    "print('\\nTest Accuracy (Overall):\\t%2d%% (%2d/%2d)' % (\n",
    "    100. * np.sum(class_correct) / np.sum(class_total),\n",
    "    np.sum(class_correct), np.sum(class_total)))"
   ]
  },
  {
   "cell_type": "code",
   "execution_count": 32,
   "id": "7a657d89",
   "metadata": {},
   "outputs": [
    {
     "name": "stdout",
     "output_type": "stream",
     "text": [
      "0.000\n"
     ]
    },
    {
     "ename": "AttributeError",
     "evalue": "'Net' object has no attribute 'backward'",
     "output_type": "error",
     "traceback": [
      "\u001b[0;31m---------------------------------------------------------------------------\u001b[0m",
      "\u001b[0;31mAttributeError\u001b[0m                            Traceback (most recent call last)",
      "\u001b[0;32m/tmp/ipykernel_66830/3913090982.py\u001b[0m in \u001b[0;36m<module>\u001b[0;34m\u001b[0m\n\u001b[1;32m     13\u001b[0m \u001b[0;34m\u001b[0m\u001b[0m\n\u001b[1;32m     14\u001b[0m     \u001b[0;31m# Backpropagate a gradient of y with respect to x; this fills the x.grad variable\u001b[0m\u001b[0;34m\u001b[0m\u001b[0;34m\u001b[0m\u001b[0;34m\u001b[0m\u001b[0m\n\u001b[0;32m---> 15\u001b[0;31m     \u001b[0my\u001b[0m\u001b[0;34m.\u001b[0m\u001b[0mbackward\u001b[0m\u001b[0;34m(\u001b[0m\u001b[0;34m)\u001b[0m\u001b[0;34m\u001b[0m\u001b[0;34m\u001b[0m\u001b[0m\n\u001b[0m\u001b[1;32m     16\u001b[0m \u001b[0;34m\u001b[0m\u001b[0m\n\u001b[1;32m     17\u001b[0m     \u001b[0;31m# Move x a small step in a direction that would increase y\u001b[0m\u001b[0;34m\u001b[0m\u001b[0;34m\u001b[0m\u001b[0;34m\u001b[0m\u001b[0m\n",
      "\u001b[0;32m~/.local/lib/python3.8/site-packages/torch/nn/modules/module.py\u001b[0m in \u001b[0;36m__getattr__\u001b[0;34m(self, name)\u001b[0m\n\u001b[1;32m   1175\u001b[0m             \u001b[0;32mif\u001b[0m \u001b[0mname\u001b[0m \u001b[0;32min\u001b[0m \u001b[0mmodules\u001b[0m\u001b[0;34m:\u001b[0m\u001b[0;34m\u001b[0m\u001b[0;34m\u001b[0m\u001b[0m\n\u001b[1;32m   1176\u001b[0m                 \u001b[0;32mreturn\u001b[0m \u001b[0mmodules\u001b[0m\u001b[0;34m[\u001b[0m\u001b[0mname\u001b[0m\u001b[0;34m]\u001b[0m\u001b[0;34m\u001b[0m\u001b[0;34m\u001b[0m\u001b[0m\n\u001b[0;32m-> 1177\u001b[0;31m         raise AttributeError(\"'{}' object has no attribute '{}'\".format(\n\u001b[0m\u001b[1;32m   1178\u001b[0m             type(self).__name__, name))\n\u001b[1;32m   1179\u001b[0m \u001b[0;34m\u001b[0m\u001b[0m\n",
      "\u001b[0;31mAttributeError\u001b[0m: 'Net' object has no attribute 'backward'"
     ]
    }
   ],
   "source": [
    "# Define some transformation of x, in this case a quadratic with maximum at +3\n",
    "def f(x):\n",
    "    return model\n",
    "\n",
    "# Create a single scalar variable that stars with value 0. Also and notify PyTorch\n",
    "# that we're eventually going to be asking for a gradient with respect to x.\n",
    "x = torch.tensor(0.0, requires_grad=True)\n",
    "\n",
    "print(\"%.3f\" % x)\n",
    "for i in range(10):        \n",
    "    # Evaluate our function transforming x into some quantity y that we want to maximize\n",
    "    y = f(x)\n",
    "    \n",
    "    # Backpropagate a gradient of y with respect to x; this fills the x.grad variable\n",
    "    y.backward()\n",
    "    \n",
    "    # Move x a small step in a direction that would increase y\n",
    "    x.data += 0.2*x.grad.data\n",
    "    \n",
    "    # Reset the gradient for the next iteration, since backward() always adds to the current grad value.\n",
    "    x.grad.data.zero_()\n",
    "    \n",
    "    print(\"%.3f\" % x)"
   ]
  },
  {
   "cell_type": "code",
   "execution_count": null,
   "id": "99532455",
   "metadata": {},
   "outputs": [],
   "source": []
  }
 ],
 "metadata": {
  "kernelspec": {
   "display_name": "Python 3 (ipykernel)",
   "language": "python",
   "name": "python3"
  },
  "language_info": {
   "codemirror_mode": {
    "name": "ipython",
    "version": 3
   },
   "file_extension": ".py",
   "mimetype": "text/x-python",
   "name": "python",
   "nbconvert_exporter": "python",
   "pygments_lexer": "ipython3",
   "version": "3.8.10"
  }
 },
 "nbformat": 4,
 "nbformat_minor": 5
}
